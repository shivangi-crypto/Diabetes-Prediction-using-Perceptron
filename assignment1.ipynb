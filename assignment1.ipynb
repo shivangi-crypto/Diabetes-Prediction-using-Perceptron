{
 "cells": [
  {
   "cell_type": "code",
   "execution_count": 27,
   "id": "0b91a1ce",
   "metadata": {},
   "outputs": [
    {
     "name": "stdout",
     "output_type": "stream",
     "text": [
      "Execution time= 13.56 seconds\n",
      "Accuracy= 76.62%\n",
      "Precision= 0.73\n",
      "Recall= 0.55\n"
     ]
    }
   ],
   "source": [
    "import numpy as np\n",
    "import pandas as pd\n",
    "import time\n",
    "import matplotlib.pyplot as plt\n",
    "import seaborn as sns\n",
    "from sklearn.model_selection import train_test_split\n",
    "from sklearn.preprocessing import StandardScaler\n",
    "from sklearn.metrics import confusion_matrix, roc_curve, auc\n",
    "\n",
    "data = pd.read_csv('diabetes.csv')\n",
    "X = data.drop('Outcome', axis=1).values\n",
    "y = data['Outcome'].values\n",
    "X_train, X_test, y_train, y_test = train_test_split(X, y, test_size=0.2, random_state=42)\n",
    "scaler = StandardScaler()\n",
    "X_train_scaled = scaler.fit_transform(X_train)\n",
    "X_test_scaled = scaler.transform(X_test)\n",
    "\n",
    "class Perceptron:\n",
    "    def __init__(self, learning_rate=0.01, n_iters=1000):\n",
    "        self.learning_rate = learning_rate\n",
    "        self.n_iters = n_iters\n",
    "        self.weights = None\n",
    "        self.bias = None\n",
    "        self.accuracy_history = []\n",
    "\n",
    "    def activation_function(self, z):\n",
    "        return np.where(z >= 0, 1, 0)\n",
    "    \n",
    "    def fit(self, X, y): \n",
    "        n_samples, n_features = X.shape\n",
    "        self.weights = np.zeros(n_features)\n",
    "        self.bias = 0\n",
    "        for _ in range(self.n_iters):\n",
    "            for i, x_i in enumerate(X):\n",
    "                linear_output = np.dot(x_i, self.weights) + self.bias\n",
    "                y_predicted = self.activation_function(linear_output)\n",
    "                update = self.learning_rate * (y[i] - y_predicted)\n",
    "                self.weights += update * x_i\n",
    "                self.bias += update\n",
    "            accuracy = np.mean(self.predict(X) == y)\n",
    "            self.accuracy_history.append(accuracy)\n",
    "\n",
    "    def predict(self, X):\n",
    "        linear_output = np.dot(X, self.weights) + self.bias\n",
    "        y_predicted = self.activation_function(linear_output)\n",
    "        return y_predicted\n",
    "start_time = time.time()\n",
    "perceptron = Perceptron(learning_rate=0.01, n_iters=1000)\n",
    "perceptron.fit(X_train_scaled, y_train)\n",
    "end_time = time.time()\n",
    "execution_time = end_time - start_time\n",
    "print(f\"Execution time= {execution_time:.2f} seconds\")\n",
    "y_pred = perceptron.predict(X_test_scaled)\n",
    "accuracy = np.mean(y_pred == y_test)\n",
    "print(f\"Accuracy= {accuracy * 100:.2f}%\")\n",
    "\n",
    "true_p = np.sum((y_test == 1) & (y_pred == 1))  \n",
    "true_n = np.sum((y_test == 0) & (y_pred == 0))\n",
    "false_p = np.sum((y_test == 0) & (y_pred == 1)) \n",
    "false_n = np.sum((y_test == 1) & (y_pred == 0))  \n",
    "precision = true_p / (true_p + false_p) if (true_p + false_p) > 0 else 0\n",
    "recall = true_p / (true_p + false_n) if (true_p + false_n) > 0 else 0\n",
    "\n",
    "print(f\"Precision= {precision:.2f}\")\n",
    "print(f\"Recall= {recall:.2f}\")\n",
    "confm = confusion_matrix(y_test, y_pred)\n",
    "plt.figure(figsize=(8, 6))\n",
    "sns.heatmap(confm, annot=True, fmt='d', cmap='Blues', xticklabels=['Non-Diabetic', 'Diabetic'], yticklabels=['Non-Diabetic', 'Diabetic'])\n",
    "plt.xlabel('Predicted')\n",
    "plt.ylabel('Actual')\n",
    "plt.title('Confusion Matrix')\n",
    "plt.savefig('confusion_matrix.png') \n",
    "plt.close() \n",
    "fpr, tpr, thresholds = roc_curve(y_test, y_pred) \n",
    "roc_auc = auc(fpr, tpr)\n",
    "\n",
    "plt.figure(figsize=(8, 6))\n",
    "plt.plot(fpr, tpr, color='blue', lw=2, label='ROC curve (area = %0.2f)' % roc_auc)\n",
    "plt.plot([0, 1], [0, 1], color='red', linestyle='--') \n",
    "plt.xlim([0.0, 1.0])\n",
    "plt.ylim([0.0, 1.05])\n",
    "plt.xlabel('False Positive Rate')\n",
    "plt.ylabel('True Positive Rate')\n",
    "plt.title('Receiver Operating Characteristic (ROC) Curve')\n",
    "plt.legend(loc='lower right')\n",
    "plt.savefig('roc_curve.png') \n",
    "plt.close() \n",
    "\n",
    "features = ['Pregnancies', 'Glucose', 'BloodPressure', 'SkinThickness', 'Insulin', 'BMI', 'DiabetesPedigreeFunction', 'Age']\n",
    "importance = np.abs(perceptron.weights)\n",
    "\n",
    "plt.figure(figsize=(10, 6))\n",
    "plt.barh(features, importance, color='skyblue')\n",
    "plt.xlabel('Absolute Weight Value')\n",
    "plt.title('Feature Importance in Perceptron Model')\n",
    "plt.savefig('feature_importance.png') \n",
    "plt.close()  \n"
   ]
  },
  {
   "cell_type": "code",
   "execution_count": null,
   "id": "f5facd12",
   "metadata": {},
   "outputs": [],
   "source": [
    "\n"
   ]
  },
  {
   "cell_type": "code",
   "execution_count": null,
   "id": "580f6166",
   "metadata": {},
   "outputs": [],
   "source": []
  },
  {
   "cell_type": "markdown",
   "id": "d4aa7521",
   "metadata": {},
   "source": []
  },
  {
   "cell_type": "code",
   "execution_count": null,
   "id": "a1c0441b",
   "metadata": {},
   "outputs": [],
   "source": []
  },
  {
   "cell_type": "code",
   "execution_count": null,
   "id": "2524bc17",
   "metadata": {},
   "outputs": [],
   "source": []
  },
  {
   "cell_type": "code",
   "execution_count": null,
   "id": "929731cc",
   "metadata": {},
   "outputs": [],
   "source": []
  },
  {
   "cell_type": "code",
   "execution_count": null,
   "id": "5bb2afe7",
   "metadata": {},
   "outputs": [],
   "source": []
  },
  {
   "cell_type": "code",
   "execution_count": null,
   "id": "3c939bd3",
   "metadata": {},
   "outputs": [],
   "source": []
  },
  {
   "cell_type": "code",
   "execution_count": null,
   "id": "15cded03",
   "metadata": {},
   "outputs": [],
   "source": []
  },
  {
   "cell_type": "code",
   "execution_count": null,
   "id": "52a8af8b",
   "metadata": {},
   "outputs": [],
   "source": [
    "\n"
   ]
  },
  {
   "cell_type": "code",
   "execution_count": null,
   "id": "9c947fe6",
   "metadata": {},
   "outputs": [],
   "source": []
  }
 ],
 "metadata": {
  "kernelspec": {
   "display_name": "Python 3 (ipykernel)",
   "language": "python",
   "name": "python3"
  },
  "language_info": {
   "codemirror_mode": {
    "name": "ipython",
    "version": 3
   },
   "file_extension": ".py",
   "mimetype": "text/x-python",
   "name": "python",
   "nbconvert_exporter": "python",
   "pygments_lexer": "ipython3",
   "version": "3.11.5"
  }
 },
 "nbformat": 4,
 "nbformat_minor": 5
}
